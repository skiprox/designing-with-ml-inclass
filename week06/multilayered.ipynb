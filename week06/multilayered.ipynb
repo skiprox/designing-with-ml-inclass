{
 "cells": [
  {
   "cell_type": "markdown",
   "metadata": {},
   "source": [
    "# Week 6\n",
    "\n",
    "Multi layered perceptron"
   ]
  },
  {
   "cell_type": "code",
   "execution_count": 17,
   "metadata": {},
   "outputs": [],
   "source": [
    "# bring in tensorflow and numpy\n",
    "import tensorflow as tf\n",
    "import numpy as np\n",
    "\n",
    "mnist = tf.keras.datasets.fashion_mnist"
   ]
  },
  {
   "cell_type": "code",
   "execution_count": 18,
   "metadata": {},
   "outputs": [
    {
     "name": "stdout",
     "output_type": "stream",
     "text": [
      "Downloading data from https://storage.googleapis.com/tensorflow/tf-keras-datasets/train-labels-idx1-ubyte.gz\n",
      "32768/29515 [=================================] - 0s 3us/step\n",
      "Downloading data from https://storage.googleapis.com/tensorflow/tf-keras-datasets/train-images-idx3-ubyte.gz\n",
      "26427392/26421880 [==============================] - 4s 0us/step\n",
      "Downloading data from https://storage.googleapis.com/tensorflow/tf-keras-datasets/t10k-labels-idx1-ubyte.gz\n",
      "8192/5148 [===============================================] - 0s 0us/step\n",
      "Downloading data from https://storage.googleapis.com/tensorflow/tf-keras-datasets/t10k-images-idx3-ubyte.gz\n",
      "4423680/4422102 [==============================] - 1s 0us/step\n"
     ]
    }
   ],
   "source": [
    "# Break apart the data, to have stuff to test against the training\n",
    "(x_train, y_train), (x_test, y_test) = mnist.load_data()"
   ]
  },
  {
   "cell_type": "code",
   "execution_count": 19,
   "metadata": {},
   "outputs": [],
   "source": [
    "# we need to flatten everything\n",
    "x_train_flat = np.vstack([img.reshape(-1,) for img in x_train])\n",
    "x_test_flat = np.vstack([img.reshape(-1,) for img in x_test])"
   ]
  },
  {
   "cell_type": "code",
   "execution_count": 29,
   "metadata": {},
   "outputs": [
    {
     "data": {
      "image/png": "[encoded data removed]",
      "text/plain": [
       "<Figure size 432x288 with 10 Axes>"
      ]
     },
     "metadata": {},
     "output_type": "display_data"
    }
   ],
   "source": [
    "import matplotlib.pyplot as plt\n",
    "\n",
    "fig, ax = plt.subplots(nrows=2, ncols=5,\n",
    "                       sharex=True, sharey=True)\n",
    "ax = ax.flatten()\n",
    "for i in range(10):\n",
    "    img = x_train_flat[y_train == i][0].reshape(28, 28)\n",
    "    ax[i].imshow(img, cmap='Greys')\n",
    "\n",
    "ax[0].set_yticks([])\n",
    "ax[0].set_xticks([])\n",
    "plt.tight_layout()\n",
    "plt.show()"
   ]
  },
  {
   "cell_type": "code",
   "execution_count": 21,
   "metadata": {},
   "outputs": [],
   "source": [
    "import matplotlib.pyplot as plt"
   ]
  },
  {
   "cell_type": "code",
   "execution_count": 22,
   "metadata": {},
   "outputs": [
    {
     "data": {
      "text/plain": [
       "array([0., 0., 0., 0., 0., 0., 0., 0., 0., 1.], dtype=float32)"
      ]
     },
     "execution_count": 22,
     "metadata": {},
     "output_type": "execute_result"
    }
   ],
   "source": [
    "y_train_onehot = tf.keras.utils.to_categorical(y_train)\n",
    "\n",
    "y_train_onehot[0]"
   ]
  },
  {
   "cell_type": "code",
   "execution_count": 23,
   "metadata": {},
   "outputs": [],
   "source": [
    "from tensorflow import keras\n",
    "model = keras.models.Sequential()\n",
    "\n",
    "model.add(keras.layers.Dense(\n",
    "    units=50,\n",
    "    input_dim=x_train_flat.shape[1],\n",
    "    activation='sigmoid'\n",
    "))\n",
    "\n",
    "model.add(keras.layers.Dense(\n",
    "    units=50,\n",
    "    input_dim=50,\n",
    "    activation='sigmoid'\n",
    "))\n",
    "\n",
    "model.add(keras.layers.Dense(\n",
    "    units=y_train_onehot.shape[1],\n",
    "    input_dim=50,\n",
    "    activation='softmax'\n",
    "))\n",
    "\n",
    "sgd_optimizer = keras.optimizers.SGD(\n",
    "    lr=0.001,\n",
    "    decay=1e-7,\n",
    "    momentum=0.9\n",
    ")\n",
    "\n",
    "model.compile(\n",
    "    optimizer=sgd_optimizer,\n",
    "    loss='categorical_crossentropy'\n",
    ")"
   ]
  },
  {
   "cell_type": "code",
   "execution_count": 24,
   "metadata": {},
   "outputs": [
    {
     "name": "stdout",
     "output_type": "stream",
     "text": [
      "Model: \"sequential_1\"\n",
      "_________________________________________________________________\n",
      "Layer (type)                 Output Shape              Param #   \n",
      "=================================================================\n",
      "dense_3 (Dense)              (None, 50)                39250     \n",
      "_________________________________________________________________\n",
      "dense_4 (Dense)              (None, 50)                2550      \n",
      "_________________________________________________________________\n",
      "dense_5 (Dense)              (None, 10)                510       \n",
      "=================================================================\n",
      "Total params: 42,310\n",
      "Trainable params: 42,310\n",
      "Non-trainable params: 0\n",
      "_________________________________________________________________\n"
     ]
    }
   ],
   "source": [
    "model.summary()"
   ]
  },
  {
   "cell_type": "code",
   "execution_count": 25,
   "metadata": {},
   "outputs": [
    {
     "name": "stdout",
     "output_type": "stream",
     "text": [
      "Train on 54000 samples, validate on 6000 samples\n",
      "Epoch 1/50\n",
      "54000/54000 [==============================] - 3s 52us/sample - loss: 1.8779 - val_loss: 1.5671\n",
      "Epoch 2/50\n",
      "54000/54000 [==============================] - 2s 35us/sample - loss: 1.3544 - val_loss: 1.1756\n",
      "Epoch 3/50\n",
      "54000/54000 [==============================] - 2s 36us/sample - loss: 1.0605 - val_loss: 0.9610\n",
      "Epoch 4/50\n",
      "54000/54000 [==============================] - 2s 35us/sample - loss: 0.8997 - val_loss: 0.8499\n",
      "Epoch 5/50\n",
      "54000/54000 [==============================] - 2s 35us/sample - loss: 0.8086 - val_loss: 0.7698\n",
      "Epoch 6/50\n",
      "54000/54000 [==============================] - 2s 36us/sample - loss: 0.7468 - val_loss: 0.7321\n",
      "Epoch 7/50\n",
      "54000/54000 [==============================] - 2s 37us/sample - loss: 0.7106 - val_loss: 0.6913\n",
      "Epoch 8/50\n",
      "54000/54000 [==============================] - 2s 35us/sample - loss: 0.6814 - val_loss: 0.6540\n",
      "Epoch 9/50\n",
      "54000/54000 [==============================] - 2s 35us/sample - loss: 0.6447 - val_loss: 0.6351\n",
      "Epoch 10/50\n",
      "54000/54000 [==============================] - 2s 36us/sample - loss: 0.6365 - val_loss: 0.6275\n",
      "Epoch 11/50\n",
      "54000/54000 [==============================] - 2s 35us/sample - loss: 0.6175 - val_loss: 0.6171\n",
      "Epoch 12/50\n",
      "54000/54000 [==============================] - 2s 35us/sample - loss: 0.6091 - val_loss: 0.6051\n",
      "Epoch 13/50\n",
      "54000/54000 [==============================] - 2s 38us/sample - loss: 0.5944 - val_loss: 0.5831\n",
      "Epoch 14/50\n",
      "54000/54000 [==============================] - 2s 46us/sample - loss: 0.5926 - val_loss: 0.5908\n",
      "Epoch 15/50\n",
      "54000/54000 [==============================] - 2s 39us/sample - loss: 0.5812 - val_loss: 0.5836\n",
      "Epoch 16/50\n",
      "54000/54000 [==============================] - 2s 37us/sample - loss: 0.5960 - val_loss: 0.6030\n",
      "Epoch 17/50\n",
      "54000/54000 [==============================] - 2s 38us/sample - loss: 0.5769 - val_loss: 0.5924\n",
      "Epoch 18/50\n",
      "54000/54000 [==============================] - 2s 37us/sample - loss: 0.5694 - val_loss: 0.5786\n",
      "Epoch 19/50\n",
      "54000/54000 [==============================] - 2s 38us/sample - loss: 0.5642 - val_loss: 0.5486\n",
      "Epoch 20/50\n",
      "54000/54000 [==============================] - 2s 36us/sample - loss: 0.5677 - val_loss: 0.5872\n",
      "Epoch 21/50\n",
      "54000/54000 [==============================] - 2s 36us/sample - loss: 0.5587 - val_loss: 0.5732\n",
      "Epoch 22/50\n",
      "54000/54000 [==============================] - 2s 38us/sample - loss: 0.5744 - val_loss: 0.5745\n",
      "Epoch 23/50\n",
      "54000/54000 [==============================] - 2s 39us/sample - loss: 0.5677 - val_loss: 0.5602\n",
      "Epoch 24/50\n",
      "54000/54000 [==============================] - 2s 35us/sample - loss: 0.5703 - val_loss: 0.5541\n",
      "Epoch 25/50\n",
      "54000/54000 [==============================] - 2s 36us/sample - loss: 0.5616 - val_loss: 0.5526\n",
      "Epoch 26/50\n",
      "54000/54000 [==============================] - 2s 40us/sample - loss: 0.5777 - val_loss: 0.5734\n",
      "Epoch 27/50\n",
      "54000/54000 [==============================] - 2s 37us/sample - loss: 0.5624 - val_loss: 0.5572\n",
      "Epoch 28/50\n",
      "54000/54000 [==============================] - 2s 38us/sample - loss: 0.5647 - val_loss: 0.5593\n",
      "Epoch 29/50\n",
      "54000/54000 [==============================] - 2s 37us/sample - loss: 0.5599 - val_loss: 0.5768\n",
      "Epoch 30/50\n",
      "54000/54000 [==============================] - 2s 37us/sample - loss: 0.5581 - val_loss: 0.5615\n",
      "Epoch 31/50\n",
      "54000/54000 [==============================] - 2s 36us/sample - loss: 0.5543 - val_loss: 0.5826\n",
      "Epoch 32/50\n",
      "54000/54000 [==============================] - 2s 37us/sample - loss: 0.5670 - val_loss: 0.5911\n",
      "Epoch 33/50\n",
      "54000/54000 [==============================] - 2s 38us/sample - loss: 0.5557 - val_loss: 0.5621\n",
      "Epoch 34/50\n",
      "54000/54000 [==============================] - 2s 42us/sample - loss: 0.5536 - val_loss: 0.5551\n",
      "Epoch 35/50\n",
      "54000/54000 [==============================] - 2s 40us/sample - loss: 0.5616 - val_loss: 0.5731\n",
      "Epoch 36/50\n",
      "54000/54000 [==============================] - 2s 42us/sample - loss: 0.5468 - val_loss: 0.5631\n",
      "Epoch 37/50\n",
      "54000/54000 [==============================] - 2s 37us/sample - loss: 0.5474 - val_loss: 0.5822\n",
      "Epoch 38/50\n",
      "54000/54000 [==============================] - 2s 37us/sample - loss: 0.5633 - val_loss: 0.5544\n",
      "Epoch 39/50\n",
      "54000/54000 [==============================] - 2s 37us/sample - loss: 0.5568 - val_loss: 0.5785\n",
      "Epoch 40/50\n",
      "54000/54000 [==============================] - 2s 38us/sample - loss: 0.5561 - val_loss: 0.5727\n",
      "Epoch 41/50\n",
      "54000/54000 [==============================] - 2s 40us/sample - loss: 0.5575 - val_loss: 0.5585\n",
      "Epoch 42/50\n",
      "54000/54000 [==============================] - 2s 37us/sample - loss: 0.5622 - val_loss: 0.5820\n",
      "Epoch 43/50\n",
      "54000/54000 [==============================] - 2s 37us/sample - loss: 0.5479 - val_loss: 0.5532\n",
      "Epoch 44/50\n",
      "54000/54000 [==============================] - 2s 37us/sample - loss: 0.5599 - val_loss: 0.5766\n",
      "Epoch 45/50\n",
      "54000/54000 [==============================] - 2s 37us/sample - loss: 0.5678 - val_loss: 0.5605\n",
      "Epoch 46/50\n",
      "54000/54000 [==============================] - 2s 37us/sample - loss: 0.5513 - val_loss: 0.5604\n",
      "Epoch 47/50\n",
      "54000/54000 [==============================] - 2s 37us/sample - loss: 0.5474 - val_loss: 0.5252\n",
      "Epoch 48/50\n",
      "54000/54000 [==============================] - 2s 37us/sample - loss: 0.5468 - val_loss: 0.5420\n",
      "Epoch 49/50\n",
      "54000/54000 [==============================] - 2s 36us/sample - loss: 0.5399 - val_loss: 0.5253\n",
      "Epoch 50/50\n",
      "54000/54000 [==============================] - 2s 37us/sample - loss: 0.5379 - val_loss: 0.5227\n"
     ]
    }
   ],
   "source": [
    "history = model.fit(\n",
    "    x_train_flat, y_train_onehot,\n",
    "    batch_size=64, epochs=50,\n",
    "    verbose=1, validation_split=0.1\n",
    ")"
   ]
  },
  {
   "cell_type": "code",
   "execution_count": 26,
   "metadata": {},
   "outputs": [
    {
     "data": {
      "text/plain": [
       "{'loss': [1.877949118260984,\n",
       "  1.354422132315459,\n",
       "  1.060485822642291,\n",
       "  0.8996909191873339,\n",
       "  0.8086342457841944,\n",
       "  0.746838649838059,\n",
       "  0.710575798953021,\n",
       "  0.6814292551499826,\n",
       "  0.6447253705130683,\n",
       "  0.6365183425832678,\n",
       "  0.6175187086352596,\n",
       "  0.6091461736891005,\n",
       "  0.5944148846202426,\n",
       "  0.592583433592761,\n",
       "  0.5811555780834622,\n",
       "  0.5960237065774423,\n",
       "  0.5769117452126962,\n",
       "  0.5693667435292844,\n",
       "  0.5642221862739987,\n",
       "  0.5677100671838831,\n",
       "  0.5587401326144183,\n",
       "  0.5744425519837274,\n",
       "  0.5676657938604002,\n",
       "  0.5703111545244852,\n",
       "  0.5616303122308519,\n",
       "  0.5776958350428828,\n",
       "  0.5624221982426113,\n",
       "  0.5646566995338157,\n",
       "  0.5598734794016238,\n",
       "  0.5581439019662363,\n",
       "  0.5543130630563806,\n",
       "  0.5669818936100712,\n",
       "  0.5557404253041303,\n",
       "  0.5535959400777464,\n",
       "  0.5616433526145087,\n",
       "  0.546770247609527,\n",
       "  0.5474100994357356,\n",
       "  0.5633394388622708,\n",
       "  0.5567875932234305,\n",
       "  0.5561230240397983,\n",
       "  0.5575339131885104,\n",
       "  0.5621936210879573,\n",
       "  0.5479054322242737,\n",
       "  0.5598866544476262,\n",
       "  0.5678066023279119,\n",
       "  0.551290814337907,\n",
       "  0.5474030826268372,\n",
       "  0.5467828796351397,\n",
       "  0.5399308642016517,\n",
       "  0.5378740589177167],\n",
       " 'val_loss': [1.5670632108052571,\n",
       "  1.175630020459493,\n",
       "  0.9609799531300862,\n",
       "  0.8499422963460287,\n",
       "  0.7697947618166605,\n",
       "  0.7321425786018372,\n",
       "  0.6913266282081604,\n",
       "  0.6539602187474569,\n",
       "  0.6351464004516602,\n",
       "  0.6274560084342956,\n",
       "  0.6170999588966369,\n",
       "  0.6051326492627461,\n",
       "  0.5831299060185751,\n",
       "  0.5908361461957296,\n",
       "  0.5836258549690246,\n",
       "  0.6029928577740987,\n",
       "  0.592445129553477,\n",
       "  0.5785782979329427,\n",
       "  0.5486408101717631,\n",
       "  0.5872061746915181,\n",
       "  0.5731550806363424,\n",
       "  0.5744964038530985,\n",
       "  0.5602183790206909,\n",
       "  0.5541141441663107,\n",
       "  0.5526074951489767,\n",
       "  0.5734385291735331,\n",
       "  0.5571867655118307,\n",
       "  0.559256282488505,\n",
       "  0.5767636933326721,\n",
       "  0.5614724208513896,\n",
       "  0.5825767884254456,\n",
       "  0.5910919973055522,\n",
       "  0.5620746041933695,\n",
       "  0.5550848428408305,\n",
       "  0.5730551986694336,\n",
       "  0.5631188426017761,\n",
       "  0.5822373832066854,\n",
       "  0.5543506096204122,\n",
       "  0.57846364514033,\n",
       "  0.572732498963674,\n",
       "  0.5584936512311299,\n",
       "  0.5820189841588338,\n",
       "  0.5531851332982382,\n",
       "  0.5766010069847107,\n",
       "  0.5605403316815695,\n",
       "  0.5603717692693074,\n",
       "  0.5252038550376892,\n",
       "  0.5420434918403626,\n",
       "  0.5253327490488688,\n",
       "  0.522667620976766]}"
      ]
     },
     "execution_count": 26,
     "metadata": {},
     "output_type": "execute_result"
    }
   ],
   "source": [
    "history.history"
   ]
  },
  {
   "cell_type": "code",
   "execution_count": 27,
   "metadata": {},
   "outputs": [
    {
     "name": "stderr",
     "output_type": "stream",
     "text": [
      "/Library/Frameworks/Python.framework/Versions/3.6/lib/python3.6/site-packages/ipykernel_launcher.py:2: DeprecationWarning: elementwise comparison failed; this will raise an error in the future.\n",
      "  \n"
     ]
    },
    {
     "name": "stdout",
     "output_type": "stream",
     "text": [
      "Test accuracy\n",
      "80.75\n"
     ]
    }
   ],
   "source": [
    "y_train_pred = model.predict_classes(x_train_flat, verbose=0)\n",
    "correct_preds = np.sum(y_test == y_train_pred, axis=0)\n",
    "test_acc = correct_preds / y_test.shape[0]\n",
    "\n",
    "y_test_pred = model.predict_classes(x_test_flat, verbose=0)\n",
    "correct_preds = np.sum(y_test == y_test_pred, axis=0)\n",
    "test_acc = correct_preds / y_test.shape[0]\n",
    "\n",
    "\n",
    "\n",
    "print('Test accuracy')\n",
    "print(test_acc * 100)"
   ]
  },
  {
   "cell_type": "code",
   "execution_count": 28,
   "metadata": {},
   "outputs": [
    {
     "name": "stdout",
     "output_type": "stream",
     "text": [
      "[1 0 2 9 2 4 0 7 9 8 4 1 8 4 1 3 1 2 7 4 8 5 3 0]\n",
      "[1 0 2 9 2 4 0 7 9 8 4 1 8 4 1 3 1 6 7 2 8 5 2 0]\n"
     ]
    }
   ],
   "source": [
    "# random sample, see how well we do\n",
    "print(model.predict_classes(x_test_flat[200:224]))\n",
    "print(y_test[200:224])"
   ]
  },
  {
   "cell_type": "code",
   "execution_count": 30,
   "metadata": {},
   "outputs": [
    {
     "data": {
      "image/png": "[encoded data removed]",
      "text/plain": [
       "<Figure size 432x288 with 1 Axes>"
      ]
     },
     "metadata": {
      "needs_background": "light"
     },
     "output_type": "display_data"
    }
   ],
   "source": [
    "# Plot training & validation loss values\n",
    "plt.plot(history.history['loss'])\n",
    "plt.plot(history.history['val_loss'])\n",
    "plt.title('Model loss')\n",
    "plt.ylabel('Loss')\n",
    "plt.xlabel('Epoch')\n",
    "plt.legend(['Train', 'Test'], loc='upper left')\n",
    "plt.show()"
   ]
  },
  {
   "cell_type": "code",
   "execution_count": null,
   "metadata": {},
   "outputs": [],
   "source": []
  }
 ],
 "metadata": {
  "kernelspec": {
   "display_name": "Python 3",
   "language": "python",
   "name": "python3"
  },
  "language_info": {
   "codemirror_mode": {
    "name": "ipython",
    "version": 3
   },
   "file_extension": ".py",
   "mimetype": "text/x-python",
   "name": "python",
   "nbconvert_exporter": "python",
   "pygments_lexer": "ipython3",
   "version": "3.6.2"
  }
 },
 "nbformat": 4,
 "nbformat_minor": 2
}
